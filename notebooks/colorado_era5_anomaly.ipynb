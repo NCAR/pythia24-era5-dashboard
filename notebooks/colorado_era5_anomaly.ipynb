{
 "cells": [
  {
   "cell_type": "markdown",
   "id": "6c594730-cd0f-4b32-9999-3f5860700da5",
   "metadata": {},
   "source": [
    "# Access ERA5 data from glade and plot temp anomaly for Colorado"
   ]
  },
  {
   "cell_type": "code",
   "execution_count": 1,
   "id": "3092ae29-feec-45fc-873f-a06016571083",
   "metadata": {},
   "outputs": [],
   "source": [
    "import matplotlib.pyplot as plt\n",
    "import numpy as np\n",
    "import xarray as xr\n",
    "import intake_esm\n",
    "import intake\n",
    "import pandas as pd\n",
    "import cartopy.crs as ccrs  # Correct import for coordinate reference systems\n",
    "import cartopy.feature as cfeature\n",
    "from holoviews import opts\n",
    "import geoviews as gv\n",
    "import holoviews as hv"
   ]
  },
  {
   "cell_type": "markdown",
   "id": "c6bb3a80-b011-43fc-822f-68c7d65b10be",
   "metadata": {},
   "source": [
    "### Specify global variables"
   ]
  },
  {
   "cell_type": "code",
   "execution_count": 3,
   "id": "d2dd4beb-490e-4f7b-b4a4-9d8bc5df9d1c",
   "metadata": {},
   "outputs": [],
   "source": [
    "lat = 40.014\n",
    "lon =  -105.270 + 360\n",
    "# Bounding box for Colorado\n",
    "colorado_right  =  (-109.060253 + 360)%360\n",
    "colorado_left   = (-102.041524 + 360)%360 \n",
    "colorado_bottom = 37\n",
    "colorado_top    = 41\n",
    "###\n",
    "baseline_year = 1940\n",
    "current_year  = 2023\n",
    "day           = 11\n",
    "month         = 6"
   ]
  },
  {
   "cell_type": "code",
   "execution_count": 4,
   "id": "6ddb79d7-3c23-4fdf-b7b8-59326c1737c4",
   "metadata": {},
   "outputs": [],
   "source": [
    "rda_scratch = '/gpfs/csfs1/collections/rda/scratch/harshah'"
   ]
  },
  {
   "cell_type": "markdown",
   "id": "aba8b45d-b43d-4489-b3fb-34583428e546",
   "metadata": {},
   "source": [
    "### Create a Dask cluster"
   ]
  },
  {
   "cell_type": "markdown",
   "id": "6109afeb-ef72-4a47-bdf0-56504054588f",
   "metadata": {},
   "source": [
    "#### Dask Introduction\n",
    "\n",
    "[Dask](https://www.dask.org/) is a solution that enables the scaling of Python libraries. It mimics popular scientific libraries such as numpy, pandas, and xarray that enables an easier path to parallel processing without having to refactor code. \n",
    "\n",
    "There are 3 components to parallel processing with Dask: the client, the scheduler, and the workers. \n",
    "\n",
    "The Client is best envisioned as the application that sends information to the Dask cluster. In Python applications this is handled when the client is defined with `client = Client(CLUSTER_TYPE)`. A Dask cluster comprises of a single scheduler that manages the execution of tasks on workers. The `CLUSTER_TYPE` can be defined in a number of different ways.\n",
    "\n",
    "- There is LocalCluster, a cluster running on the same hardware as the application and sharing the available resources, directly in Python with `dask.distributed`. \n",
    "\n",
    "- In certain JupyterHubs Dask Gateway may be available and a dedicated dask cluster with its own resources can be created dynamically with `dask.gateway`. \n",
    "\n",
    "- On HPC systems `dask_jobqueue` is used to connect to the HPC Slurm and PBS job schedulers to provision resources.\n",
    "\n",
    "The `dask.distributed` client python module can also be used to connect to existing clusters. A Dask Scheduler and Workers can be deployed in containers, or on Kubernetes, without using a Python function to create a dask cluster. The `dask.distributed` Client is configured to connect to the scheduler either by container name, or by the Kubernetes service name.     "
   ]
  },
  {
   "cell_type": "markdown",
   "id": "756464b7-5c18-4fbf-ae11-86688c0c4f43",
   "metadata": {},
   "source": [
    "#### Select the Dask cluster type"
   ]
  },
  {
   "cell_type": "markdown",
   "id": "206e90c1-1764-440f-9846-aa6e75d39777",
   "metadata": {},
   "source": [
    "The default will be LocalCluster as that can run on any system.\n",
    "\n",
    "If running on a HPC computer with a PBS Scheduler, set to True. Otherwise, set to False."
   ]
  },
  {
   "cell_type": "code",
   "execution_count": 5,
   "id": "27eba78f-3a1c-4d9a-ad07-501f713069aa",
   "metadata": {},
   "outputs": [],
   "source": [
    "USE_PBS_SCHEDULER = False"
   ]
  },
  {
   "cell_type": "markdown",
   "id": "26672bdd-25d4-4664-bd2f-09eac8e578ba",
   "metadata": {},
   "source": [
    "If running on Jupyter server with Dask Gateway configured, set to True. Otherwise, set to False."
   ]
  },
  {
   "cell_type": "code",
   "execution_count": 6,
   "id": "4804f8c9-a5f2-4ed7-a5a4-fdb9c344e5d5",
   "metadata": {},
   "outputs": [],
   "source": [
    "USE_DASK_GATEWAY = False"
   ]
  },
  {
   "cell_type": "markdown",
   "id": "296bfaf7-a1a4-48f7-b3f2-e2b12a738660",
   "metadata": {},
   "source": [
    "**Python function for a PBS Cluster**"
   ]
  },
  {
   "cell_type": "code",
   "execution_count": 7,
   "id": "d0915ebf-a4b9-4089-b5da-b81fc5f96488",
   "metadata": {},
   "outputs": [],
   "source": [
    "# Create a PBS cluster object\n",
    "def get_pbs_cluster():\n",
    "    \"\"\" Create cluster through dask_jobqueue.   \n",
    "    \"\"\"\n",
    "    from dask_jobqueue import PBSCluster\n",
    "    cluster = PBSCluster(\n",
    "        job_name = 'dask-pythia-24',\n",
    "        cores = 1,\n",
    "        memory = '4GiB',\n",
    "        processes = 1,\n",
    "        local_directory = rda_scratch + '/dask/spill',\n",
    "        resource_spec = 'select=1:ncpus=1:mem=4GB',\n",
    "        queue = 'casper',\n",
    "        walltime = '1:00:00',\n",
    "        #interface = 'ib0'\n",
    "        interface = 'ext'\n",
    "    )\n",
    "    return cluster"
   ]
  },
  {
   "cell_type": "markdown",
   "id": "7ad45401-97c9-4934-9b97-97ac1c9edd3c",
   "metadata": {},
   "source": [
    "**Python function for a Gateway Cluster**"
   ]
  },
  {
   "cell_type": "code",
   "execution_count": 9,
   "id": "4fdeb643-324e-4b76-a902-884d1c2b7d1e",
   "metadata": {},
   "outputs": [],
   "source": [
    "def get_gateway_cluster():\n",
    "    \"\"\" Create cluster through dask_gateway\n",
    "    \"\"\"\n",
    "    from dask_gateway import Gateway\n",
    "\n",
    "    gateway = Gateway()\n",
    "    cluster = gateway.new_cluster()\n",
    "    cluster.adapt(minimum=2, maximum=4)\n",
    "    return cluster"
   ]
  },
  {
   "cell_type": "markdown",
   "id": "9274168c-11e4-4db2-b5b3-6c818e25b8cf",
   "metadata": {},
   "source": [
    "**Python function for a Local Cluster**"
   ]
  },
  {
   "cell_type": "code",
   "execution_count": 8,
   "id": "c6cf2e6a-9617-4873-9c58-649f524cd74f",
   "metadata": {},
   "outputs": [],
   "source": [
    "def get_local_cluster():\n",
    "    \"\"\" Create cluster using the Jupyter server's resources\n",
    "    \"\"\"\n",
    "    from distributed import LocalCluster, performance_report\n",
    "    cluster = LocalCluster()    \n",
    "\n",
    "    cluster.scale(4)\n",
    "    return cluster"
   ]
  },
  {
   "cell_type": "markdown",
   "id": "d0d28e5d-16f6-492a-b4ab-cc54015c7ea1",
   "metadata": {},
   "source": [
    "**Python logic to select the Dask Cluster type**\n",
    "\n",
    "This uses True/False boolean logic based on the variables set in the previous cells"
   ]
  },
  {
   "cell_type": "code",
   "execution_count": 10,
   "id": "18ceadbf-2d3c-42a4-aaf0-a13ecc3c86c7",
   "metadata": {},
   "outputs": [
    {
     "data": {
      "application/vnd.jupyter.widget-view+json": {
       "model_id": "21b70e739b934c6ea9b296ce3dc9a6f2",
       "version_major": 2,
       "version_minor": 0
      },
      "text/html": [
       "<div class=\"jp-RenderedHTMLCommon jp-RenderedHTML jp-mod-trusted jp-OutputArea-output\">\n",
       "    <div style=\"width: 24px; height: 24px; background-color: #e1e1e1; border: 3px solid #9D9D9D; border-radius: 5px; position: absolute;\">\n",
       "    </div>\n",
       "    <div style=\"margin-left: 48px;\">\n",
       "        <h3 style=\"margin-bottom: 0px; margin-top: 0px;\">LocalCluster</h3>\n",
       "        <p style=\"color: #9D9D9D; margin-bottom: 0px;\">2bcca1e9</p>\n",
       "        <table style=\"width: 100%; text-align: left;\">\n",
       "            <tr>\n",
       "                <td style=\"text-align: left;\">\n",
       "                    <strong>Dashboard:</strong> <a href=\"/user/nicholascote/proxy/8787/status\" target=\"_blank\">/user/nicholascote/proxy/8787/status</a>\n",
       "                </td>\n",
       "                <td style=\"text-align: left;\">\n",
       "                    <strong>Workers:</strong> 4\n",
       "                </td>\n",
       "            </tr>\n",
       "            <tr>\n",
       "                <td style=\"text-align: left;\">\n",
       "                    <strong>Total threads:</strong> 32\n",
       "                </td>\n",
       "                <td style=\"text-align: left;\">\n",
       "                    <strong>Total memory:</strong> 251.43 GiB\n",
       "                </td>\n",
       "            </tr>\n",
       "            \n",
       "            <tr>\n",
       "    <td style=\"text-align: left;\"><strong>Status:</strong> running</td>\n",
       "    <td style=\"text-align: left;\"><strong>Using processes:</strong> True</td>\n",
       "</tr>\n",
       "\n",
       "            \n",
       "        </table>\n",
       "\n",
       "        <details>\n",
       "            <summary style=\"margin-bottom: 20px;\">\n",
       "                <h3 style=\"display: inline;\">Scheduler Info</h3>\n",
       "            </summary>\n",
       "\n",
       "            <div style=\"\">\n",
       "    <div>\n",
       "        <div style=\"width: 24px; height: 24px; background-color: #FFF7E5; border: 3px solid #FF6132; border-radius: 5px; position: absolute;\"> </div>\n",
       "        <div style=\"margin-left: 48px;\">\n",
       "            <h3 style=\"margin-bottom: 0px;\">Scheduler</h3>\n",
       "            <p style=\"color: #9D9D9D; margin-bottom: 0px;\">Scheduler-12a7bdad-09f7-4be2-8e9b-4844ef94168c</p>\n",
       "            <table style=\"width: 100%; text-align: left;\">\n",
       "                <tr>\n",
       "                    <td style=\"text-align: left;\">\n",
       "                        <strong>Comm:</strong> tcp://127.0.0.1:35221\n",
       "                    </td>\n",
       "                    <td style=\"text-align: left;\">\n",
       "                        <strong>Workers:</strong> 4\n",
       "                    </td>\n",
       "                </tr>\n",
       "                <tr>\n",
       "                    <td style=\"text-align: left;\">\n",
       "                        <strong>Dashboard:</strong> <a href=\"/user/nicholascote/proxy/8787/status\" target=\"_blank\">/user/nicholascote/proxy/8787/status</a>\n",
       "                    </td>\n",
       "                    <td style=\"text-align: left;\">\n",
       "                        <strong>Total threads:</strong> 32\n",
       "                    </td>\n",
       "                </tr>\n",
       "                <tr>\n",
       "                    <td style=\"text-align: left;\">\n",
       "                        <strong>Started:</strong> Just now\n",
       "                    </td>\n",
       "                    <td style=\"text-align: left;\">\n",
       "                        <strong>Total memory:</strong> 251.43 GiB\n",
       "                    </td>\n",
       "                </tr>\n",
       "            </table>\n",
       "        </div>\n",
       "    </div>\n",
       "\n",
       "    <details style=\"margin-left: 48px;\">\n",
       "        <summary style=\"margin-bottom: 20px;\">\n",
       "            <h3 style=\"display: inline;\">Workers</h3>\n",
       "        </summary>\n",
       "\n",
       "        \n",
       "        <div style=\"margin-bottom: 20px;\">\n",
       "            <div style=\"width: 24px; height: 24px; background-color: #DBF5FF; border: 3px solid #4CC9FF; border-radius: 5px; position: absolute;\"> </div>\n",
       "            <div style=\"margin-left: 48px;\">\n",
       "            <details>\n",
       "                <summary>\n",
       "                    <h4 style=\"margin-bottom: 0px; display: inline;\">Worker: 0</h4>\n",
       "                </summary>\n",
       "                <table style=\"width: 100%; text-align: left;\">\n",
       "                    <tr>\n",
       "                        <td style=\"text-align: left;\">\n",
       "                            <strong>Comm: </strong> tcp://127.0.0.1:35829\n",
       "                        </td>\n",
       "                        <td style=\"text-align: left;\">\n",
       "                            <strong>Total threads: </strong> 8\n",
       "                        </td>\n",
       "                    </tr>\n",
       "                    <tr>\n",
       "                        <td style=\"text-align: left;\">\n",
       "                            <strong>Dashboard: </strong> <a href=\"/user/nicholascote/proxy/32807/status\" target=\"_blank\">/user/nicholascote/proxy/32807/status</a>\n",
       "                        </td>\n",
       "                        <td style=\"text-align: left;\">\n",
       "                            <strong>Memory: </strong> 62.86 GiB\n",
       "                        </td>\n",
       "                    </tr>\n",
       "                    <tr>\n",
       "                        <td style=\"text-align: left;\">\n",
       "                            <strong>Nanny: </strong> tcp://127.0.0.1:45069\n",
       "                        </td>\n",
       "                        <td style=\"text-align: left;\"></td>\n",
       "                    </tr>\n",
       "                    <tr>\n",
       "                        <td colspan=\"2\" style=\"text-align: left;\">\n",
       "                            <strong>Local directory: </strong> /tmp/dask-scratch-space/worker-cs7b1ewp\n",
       "                        </td>\n",
       "                    </tr>\n",
       "\n",
       "                    \n",
       "\n",
       "                    \n",
       "\n",
       "                </table>\n",
       "            </details>\n",
       "            </div>\n",
       "        </div>\n",
       "        \n",
       "        <div style=\"margin-bottom: 20px;\">\n",
       "            <div style=\"width: 24px; height: 24px; background-color: #DBF5FF; border: 3px solid #4CC9FF; border-radius: 5px; position: absolute;\"> </div>\n",
       "            <div style=\"margin-left: 48px;\">\n",
       "            <details>\n",
       "                <summary>\n",
       "                    <h4 style=\"margin-bottom: 0px; display: inline;\">Worker: 1</h4>\n",
       "                </summary>\n",
       "                <table style=\"width: 100%; text-align: left;\">\n",
       "                    <tr>\n",
       "                        <td style=\"text-align: left;\">\n",
       "                            <strong>Comm: </strong> tcp://127.0.0.1:36673\n",
       "                        </td>\n",
       "                        <td style=\"text-align: left;\">\n",
       "                            <strong>Total threads: </strong> 8\n",
       "                        </td>\n",
       "                    </tr>\n",
       "                    <tr>\n",
       "                        <td style=\"text-align: left;\">\n",
       "                            <strong>Dashboard: </strong> <a href=\"/user/nicholascote/proxy/39351/status\" target=\"_blank\">/user/nicholascote/proxy/39351/status</a>\n",
       "                        </td>\n",
       "                        <td style=\"text-align: left;\">\n",
       "                            <strong>Memory: </strong> 62.86 GiB\n",
       "                        </td>\n",
       "                    </tr>\n",
       "                    <tr>\n",
       "                        <td style=\"text-align: left;\">\n",
       "                            <strong>Nanny: </strong> tcp://127.0.0.1:37367\n",
       "                        </td>\n",
       "                        <td style=\"text-align: left;\"></td>\n",
       "                    </tr>\n",
       "                    <tr>\n",
       "                        <td colspan=\"2\" style=\"text-align: left;\">\n",
       "                            <strong>Local directory: </strong> /tmp/dask-scratch-space/worker-a9h3mpk7\n",
       "                        </td>\n",
       "                    </tr>\n",
       "\n",
       "                    \n",
       "\n",
       "                    \n",
       "\n",
       "                </table>\n",
       "            </details>\n",
       "            </div>\n",
       "        </div>\n",
       "        \n",
       "        <div style=\"margin-bottom: 20px;\">\n",
       "            <div style=\"width: 24px; height: 24px; background-color: #DBF5FF; border: 3px solid #4CC9FF; border-radius: 5px; position: absolute;\"> </div>\n",
       "            <div style=\"margin-left: 48px;\">\n",
       "            <details>\n",
       "                <summary>\n",
       "                    <h4 style=\"margin-bottom: 0px; display: inline;\">Worker: 2</h4>\n",
       "                </summary>\n",
       "                <table style=\"width: 100%; text-align: left;\">\n",
       "                    <tr>\n",
       "                        <td style=\"text-align: left;\">\n",
       "                            <strong>Comm: </strong> tcp://127.0.0.1:38271\n",
       "                        </td>\n",
       "                        <td style=\"text-align: left;\">\n",
       "                            <strong>Total threads: </strong> 8\n",
       "                        </td>\n",
       "                    </tr>\n",
       "                    <tr>\n",
       "                        <td style=\"text-align: left;\">\n",
       "                            <strong>Dashboard: </strong> <a href=\"/user/nicholascote/proxy/33461/status\" target=\"_blank\">/user/nicholascote/proxy/33461/status</a>\n",
       "                        </td>\n",
       "                        <td style=\"text-align: left;\">\n",
       "                            <strong>Memory: </strong> 62.86 GiB\n",
       "                        </td>\n",
       "                    </tr>\n",
       "                    <tr>\n",
       "                        <td style=\"text-align: left;\">\n",
       "                            <strong>Nanny: </strong> tcp://127.0.0.1:41955\n",
       "                        </td>\n",
       "                        <td style=\"text-align: left;\"></td>\n",
       "                    </tr>\n",
       "                    <tr>\n",
       "                        <td colspan=\"2\" style=\"text-align: left;\">\n",
       "                            <strong>Local directory: </strong> /tmp/dask-scratch-space/worker-geven_mj\n",
       "                        </td>\n",
       "                    </tr>\n",
       "\n",
       "                    \n",
       "\n",
       "                    \n",
       "\n",
       "                </table>\n",
       "            </details>\n",
       "            </div>\n",
       "        </div>\n",
       "        \n",
       "        <div style=\"margin-bottom: 20px;\">\n",
       "            <div style=\"width: 24px; height: 24px; background-color: #DBF5FF; border: 3px solid #4CC9FF; border-radius: 5px; position: absolute;\"> </div>\n",
       "            <div style=\"margin-left: 48px;\">\n",
       "            <details>\n",
       "                <summary>\n",
       "                    <h4 style=\"margin-bottom: 0px; display: inline;\">Worker: 3</h4>\n",
       "                </summary>\n",
       "                <table style=\"width: 100%; text-align: left;\">\n",
       "                    <tr>\n",
       "                        <td style=\"text-align: left;\">\n",
       "                            <strong>Comm: </strong> tcp://127.0.0.1:33523\n",
       "                        </td>\n",
       "                        <td style=\"text-align: left;\">\n",
       "                            <strong>Total threads: </strong> 8\n",
       "                        </td>\n",
       "                    </tr>\n",
       "                    <tr>\n",
       "                        <td style=\"text-align: left;\">\n",
       "                            <strong>Dashboard: </strong> <a href=\"/user/nicholascote/proxy/45523/status\" target=\"_blank\">/user/nicholascote/proxy/45523/status</a>\n",
       "                        </td>\n",
       "                        <td style=\"text-align: left;\">\n",
       "                            <strong>Memory: </strong> 62.86 GiB\n",
       "                        </td>\n",
       "                    </tr>\n",
       "                    <tr>\n",
       "                        <td style=\"text-align: left;\">\n",
       "                            <strong>Nanny: </strong> tcp://127.0.0.1:35497\n",
       "                        </td>\n",
       "                        <td style=\"text-align: left;\"></td>\n",
       "                    </tr>\n",
       "                    <tr>\n",
       "                        <td colspan=\"2\" style=\"text-align: left;\">\n",
       "                            <strong>Local directory: </strong> /tmp/dask-scratch-space/worker-_his2gne\n",
       "                        </td>\n",
       "                    </tr>\n",
       "\n",
       "                    \n",
       "\n",
       "                    \n",
       "\n",
       "                </table>\n",
       "            </details>\n",
       "            </div>\n",
       "        </div>\n",
       "        \n",
       "\n",
       "    </details>\n",
       "</div>\n",
       "\n",
       "        </details>\n",
       "    </div>\n",
       "</div>"
      ],
      "text/plain": [
       "LocalCluster(2bcca1e9, 'tcp://127.0.0.1:35221', workers=4, threads=32, memory=251.43 GiB)"
      ]
     },
     "metadata": {},
     "output_type": "display_data"
    }
   ],
   "source": [
    "# Obtain dask cluster in one of three ways\n",
    "\n",
    "if USE_PBS_SCHEDULER:\n",
    "    cluster = get_pbs_cluster()\n",
    "elif USE_DASK_GATEWAY:\n",
    "    cluster = get_gateway_cluster()\n",
    "else:\n",
    "    cluster = get_local_cluster()\n",
    "\n",
    "# Connect to cluster\n",
    "from distributed import Client\n",
    "client = Client(cluster)\n",
    "\n",
    "# Display cluster dashboard URL\n",
    "cluster"
   ]
  },
  {
   "cell_type": "markdown",
   "id": "ced69791-8589-4ec7-9961-edd56e4bb014",
   "metadata": {},
   "source": [
    "### Open ERA5 catalog "
   ]
  },
  {
   "cell_type": "code",
   "execution_count": 11,
   "id": "e4d432d9-1c63-4907-b6c5-0eb5d2499714",
   "metadata": {},
   "outputs": [
    {
     "ename": "PermissionError",
     "evalue": "[Errno 13] Permission denied: '/glade/campaign/collections/rda/transfer/harshah/intake_catalogs/era5_catalog.json'",
     "output_type": "error",
     "traceback": [
      "\u001b[0;31m---------------------------------------------------------------------------\u001b[0m",
      "\u001b[0;31mPermissionError\u001b[0m                           Traceback (most recent call last)",
      "Cell \u001b[0;32mIn[11], line 1\u001b[0m\n\u001b[0;32m----> 1\u001b[0m era5_cat \u001b[38;5;241m=\u001b[39m \u001b[43mintake\u001b[49m\u001b[38;5;241;43m.\u001b[39;49m\u001b[43mopen_esm_datastore\u001b[49m\u001b[43m(\u001b[49m\u001b[38;5;124;43m'\u001b[39;49m\u001b[38;5;124;43m/glade/campaign/collections/rda/transfer/harshah/intake_catalogs/era5_catalog.json\u001b[39;49m\u001b[38;5;124;43m'\u001b[39;49m\u001b[43m)\u001b[49m\n\u001b[1;32m      2\u001b[0m era5_cat\n",
      "File \u001b[0;32m/srv/base-conda/cisl-cloud-base/lib/python3.10/site-packages/intake_esm/core.py:107\u001b[0m, in \u001b[0;36mesm_datastore.__init__\u001b[0;34m(self, obj, progressbar, sep, registry, read_csv_kwargs, columns_with_iterables, storage_options, **intake_kwargs)\u001b[0m\n\u001b[1;32m    105\u001b[0m     \u001b[38;5;28mself\u001b[39m\u001b[38;5;241m.\u001b[39mesmcat \u001b[38;5;241m=\u001b[39m ESMCatalogModel\u001b[38;5;241m.\u001b[39mfrom_dict(obj)\n\u001b[1;32m    106\u001b[0m \u001b[38;5;28;01melse\u001b[39;00m:\n\u001b[0;32m--> 107\u001b[0m     \u001b[38;5;28mself\u001b[39m\u001b[38;5;241m.\u001b[39mesmcat \u001b[38;5;241m=\u001b[39m \u001b[43mESMCatalogModel\u001b[49m\u001b[38;5;241;43m.\u001b[39;49m\u001b[43mload\u001b[49m\u001b[43m(\u001b[49m\n\u001b[1;32m    108\u001b[0m \u001b[43m        \u001b[49m\u001b[43mobj\u001b[49m\u001b[43m,\u001b[49m\u001b[43m \u001b[49m\u001b[43mstorage_options\u001b[49m\u001b[38;5;241;43m=\u001b[39;49m\u001b[38;5;28;43mself\u001b[39;49m\u001b[38;5;241;43m.\u001b[39;49m\u001b[43mstorage_options\u001b[49m\u001b[43m,\u001b[49m\u001b[43m \u001b[49m\u001b[43mread_csv_kwargs\u001b[49m\u001b[38;5;241;43m=\u001b[39;49m\u001b[43mread_csv_kwargs\u001b[49m\n\u001b[1;32m    109\u001b[0m \u001b[43m    \u001b[49m\u001b[43m)\u001b[49m\n\u001b[1;32m    111\u001b[0m \u001b[38;5;28mself\u001b[39m\u001b[38;5;241m.\u001b[39mderivedcat \u001b[38;5;241m=\u001b[39m registry \u001b[38;5;129;01mor\u001b[39;00m default_registry\n\u001b[1;32m    112\u001b[0m \u001b[38;5;28mself\u001b[39m\u001b[38;5;241m.\u001b[39m_entries \u001b[38;5;241m=\u001b[39m {}\n",
      "File \u001b[0;32m/srv/base-conda/cisl-cloud-base/lib/python3.10/site-packages/intake_esm/cat.py:240\u001b[0m, in \u001b[0;36mESMCatalogModel.load\u001b[0;34m(cls, json_file, storage_options, read_csv_kwargs)\u001b[0m\n\u001b[1;32m    237\u001b[0m json_file \u001b[38;5;241m=\u001b[39m \u001b[38;5;28mstr\u001b[39m(json_file)  \u001b[38;5;66;03m# We accept Path, but fsspec doesn't.\u001b[39;00m\n\u001b[1;32m    238\u001b[0m _mapper \u001b[38;5;241m=\u001b[39m fsspec\u001b[38;5;241m.\u001b[39mget_mapper(json_file, \u001b[38;5;241m*\u001b[39m\u001b[38;5;241m*\u001b[39mstorage_options)\n\u001b[0;32m--> 240\u001b[0m \u001b[38;5;28;01mwith\u001b[39;00m fsspec\u001b[38;5;241m.\u001b[39mopen(json_file, \u001b[38;5;241m*\u001b[39m\u001b[38;5;241m*\u001b[39mstorage_options) \u001b[38;5;28;01mas\u001b[39;00m fobj:\n\u001b[1;32m    241\u001b[0m     data \u001b[38;5;241m=\u001b[39m json\u001b[38;5;241m.\u001b[39mloads(fobj\u001b[38;5;241m.\u001b[39mread())\n\u001b[1;32m    242\u001b[0m     \u001b[38;5;28;01mif\u001b[39;00m \u001b[38;5;124m'\u001b[39m\u001b[38;5;124mlast_updated\u001b[39m\u001b[38;5;124m'\u001b[39m \u001b[38;5;129;01mnot\u001b[39;00m \u001b[38;5;129;01min\u001b[39;00m data:\n",
      "File \u001b[0;32m/srv/base-conda/cisl-cloud-base/lib/python3.10/site-packages/fsspec/core.py:103\u001b[0m, in \u001b[0;36mOpenFile.__enter__\u001b[0;34m(self)\u001b[0m\n\u001b[1;32m    100\u001b[0m \u001b[38;5;28;01mdef\u001b[39;00m \u001b[38;5;21m__enter__\u001b[39m(\u001b[38;5;28mself\u001b[39m):\n\u001b[1;32m    101\u001b[0m     mode \u001b[38;5;241m=\u001b[39m \u001b[38;5;28mself\u001b[39m\u001b[38;5;241m.\u001b[39mmode\u001b[38;5;241m.\u001b[39mreplace(\u001b[38;5;124m\"\u001b[39m\u001b[38;5;124mt\u001b[39m\u001b[38;5;124m\"\u001b[39m, \u001b[38;5;124m\"\u001b[39m\u001b[38;5;124m\"\u001b[39m)\u001b[38;5;241m.\u001b[39mreplace(\u001b[38;5;124m\"\u001b[39m\u001b[38;5;124mb\u001b[39m\u001b[38;5;124m\"\u001b[39m, \u001b[38;5;124m\"\u001b[39m\u001b[38;5;124m\"\u001b[39m) \u001b[38;5;241m+\u001b[39m \u001b[38;5;124m\"\u001b[39m\u001b[38;5;124mb\u001b[39m\u001b[38;5;124m\"\u001b[39m\n\u001b[0;32m--> 103\u001b[0m     f \u001b[38;5;241m=\u001b[39m \u001b[38;5;28;43mself\u001b[39;49m\u001b[38;5;241;43m.\u001b[39;49m\u001b[43mfs\u001b[49m\u001b[38;5;241;43m.\u001b[39;49m\u001b[43mopen\u001b[49m\u001b[43m(\u001b[49m\u001b[38;5;28;43mself\u001b[39;49m\u001b[38;5;241;43m.\u001b[39;49m\u001b[43mpath\u001b[49m\u001b[43m,\u001b[49m\u001b[43m \u001b[49m\u001b[43mmode\u001b[49m\u001b[38;5;241;43m=\u001b[39;49m\u001b[43mmode\u001b[49m\u001b[43m)\u001b[49m\n\u001b[1;32m    105\u001b[0m     \u001b[38;5;28mself\u001b[39m\u001b[38;5;241m.\u001b[39mfobjects \u001b[38;5;241m=\u001b[39m [f]\n\u001b[1;32m    107\u001b[0m     \u001b[38;5;28;01mif\u001b[39;00m \u001b[38;5;28mself\u001b[39m\u001b[38;5;241m.\u001b[39mcompression \u001b[38;5;129;01mis\u001b[39;00m \u001b[38;5;129;01mnot\u001b[39;00m \u001b[38;5;28;01mNone\u001b[39;00m:\n",
      "File \u001b[0;32m/srv/base-conda/cisl-cloud-base/lib/python3.10/site-packages/fsspec/spec.py:1293\u001b[0m, in \u001b[0;36mAbstractFileSystem.open\u001b[0;34m(self, path, mode, block_size, cache_options, compression, **kwargs)\u001b[0m\n\u001b[1;32m   1291\u001b[0m \u001b[38;5;28;01melse\u001b[39;00m:\n\u001b[1;32m   1292\u001b[0m     ac \u001b[38;5;241m=\u001b[39m kwargs\u001b[38;5;241m.\u001b[39mpop(\u001b[38;5;124m\"\u001b[39m\u001b[38;5;124mautocommit\u001b[39m\u001b[38;5;124m\"\u001b[39m, \u001b[38;5;129;01mnot\u001b[39;00m \u001b[38;5;28mself\u001b[39m\u001b[38;5;241m.\u001b[39m_intrans)\n\u001b[0;32m-> 1293\u001b[0m     f \u001b[38;5;241m=\u001b[39m \u001b[38;5;28;43mself\u001b[39;49m\u001b[38;5;241;43m.\u001b[39;49m\u001b[43m_open\u001b[49m\u001b[43m(\u001b[49m\n\u001b[1;32m   1294\u001b[0m \u001b[43m        \u001b[49m\u001b[43mpath\u001b[49m\u001b[43m,\u001b[49m\n\u001b[1;32m   1295\u001b[0m \u001b[43m        \u001b[49m\u001b[43mmode\u001b[49m\u001b[38;5;241;43m=\u001b[39;49m\u001b[43mmode\u001b[49m\u001b[43m,\u001b[49m\n\u001b[1;32m   1296\u001b[0m \u001b[43m        \u001b[49m\u001b[43mblock_size\u001b[49m\u001b[38;5;241;43m=\u001b[39;49m\u001b[43mblock_size\u001b[49m\u001b[43m,\u001b[49m\n\u001b[1;32m   1297\u001b[0m \u001b[43m        \u001b[49m\u001b[43mautocommit\u001b[49m\u001b[38;5;241;43m=\u001b[39;49m\u001b[43mac\u001b[49m\u001b[43m,\u001b[49m\n\u001b[1;32m   1298\u001b[0m \u001b[43m        \u001b[49m\u001b[43mcache_options\u001b[49m\u001b[38;5;241;43m=\u001b[39;49m\u001b[43mcache_options\u001b[49m\u001b[43m,\u001b[49m\n\u001b[1;32m   1299\u001b[0m \u001b[43m        \u001b[49m\u001b[38;5;241;43m*\u001b[39;49m\u001b[38;5;241;43m*\u001b[39;49m\u001b[43mkwargs\u001b[49m\u001b[43m,\u001b[49m\n\u001b[1;32m   1300\u001b[0m \u001b[43m    \u001b[49m\u001b[43m)\u001b[49m\n\u001b[1;32m   1301\u001b[0m     \u001b[38;5;28;01mif\u001b[39;00m compression \u001b[38;5;129;01mis\u001b[39;00m \u001b[38;5;129;01mnot\u001b[39;00m \u001b[38;5;28;01mNone\u001b[39;00m:\n\u001b[1;32m   1302\u001b[0m         \u001b[38;5;28;01mfrom\u001b[39;00m \u001b[38;5;21;01mfsspec\u001b[39;00m\u001b[38;5;21;01m.\u001b[39;00m\u001b[38;5;21;01mcompression\u001b[39;00m \u001b[38;5;28;01mimport\u001b[39;00m compr\n",
      "File \u001b[0;32m/srv/base-conda/cisl-cloud-base/lib/python3.10/site-packages/fsspec/implementations/local.py:197\u001b[0m, in \u001b[0;36mLocalFileSystem._open\u001b[0;34m(self, path, mode, block_size, **kwargs)\u001b[0m\n\u001b[1;32m    195\u001b[0m \u001b[38;5;28;01mif\u001b[39;00m \u001b[38;5;28mself\u001b[39m\u001b[38;5;241m.\u001b[39mauto_mkdir \u001b[38;5;129;01mand\u001b[39;00m \u001b[38;5;124m\"\u001b[39m\u001b[38;5;124mw\u001b[39m\u001b[38;5;124m\"\u001b[39m \u001b[38;5;129;01min\u001b[39;00m mode:\n\u001b[1;32m    196\u001b[0m     \u001b[38;5;28mself\u001b[39m\u001b[38;5;241m.\u001b[39mmakedirs(\u001b[38;5;28mself\u001b[39m\u001b[38;5;241m.\u001b[39m_parent(path), exist_ok\u001b[38;5;241m=\u001b[39m\u001b[38;5;28;01mTrue\u001b[39;00m)\n\u001b[0;32m--> 197\u001b[0m \u001b[38;5;28;01mreturn\u001b[39;00m \u001b[43mLocalFileOpener\u001b[49m\u001b[43m(\u001b[49m\u001b[43mpath\u001b[49m\u001b[43m,\u001b[49m\u001b[43m \u001b[49m\u001b[43mmode\u001b[49m\u001b[43m,\u001b[49m\u001b[43m \u001b[49m\u001b[43mfs\u001b[49m\u001b[38;5;241;43m=\u001b[39;49m\u001b[38;5;28;43mself\u001b[39;49m\u001b[43m,\u001b[49m\u001b[43m \u001b[49m\u001b[38;5;241;43m*\u001b[39;49m\u001b[38;5;241;43m*\u001b[39;49m\u001b[43mkwargs\u001b[49m\u001b[43m)\u001b[49m\n",
      "File \u001b[0;32m/srv/base-conda/cisl-cloud-base/lib/python3.10/site-packages/fsspec/implementations/local.py:322\u001b[0m, in \u001b[0;36mLocalFileOpener.__init__\u001b[0;34m(self, path, mode, autocommit, fs, compression, **kwargs)\u001b[0m\n\u001b[1;32m    320\u001b[0m \u001b[38;5;28mself\u001b[39m\u001b[38;5;241m.\u001b[39mcompression \u001b[38;5;241m=\u001b[39m get_compression(path, compression)\n\u001b[1;32m    321\u001b[0m \u001b[38;5;28mself\u001b[39m\u001b[38;5;241m.\u001b[39mblocksize \u001b[38;5;241m=\u001b[39m io\u001b[38;5;241m.\u001b[39mDEFAULT_BUFFER_SIZE\n\u001b[0;32m--> 322\u001b[0m \u001b[38;5;28;43mself\u001b[39;49m\u001b[38;5;241;43m.\u001b[39;49m\u001b[43m_open\u001b[49m\u001b[43m(\u001b[49m\u001b[43m)\u001b[49m\n",
      "File \u001b[0;32m/srv/base-conda/cisl-cloud-base/lib/python3.10/site-packages/fsspec/implementations/local.py:327\u001b[0m, in \u001b[0;36mLocalFileOpener._open\u001b[0;34m(self)\u001b[0m\n\u001b[1;32m    325\u001b[0m \u001b[38;5;28;01mif\u001b[39;00m \u001b[38;5;28mself\u001b[39m\u001b[38;5;241m.\u001b[39mf \u001b[38;5;129;01mis\u001b[39;00m \u001b[38;5;28;01mNone\u001b[39;00m \u001b[38;5;129;01mor\u001b[39;00m \u001b[38;5;28mself\u001b[39m\u001b[38;5;241m.\u001b[39mf\u001b[38;5;241m.\u001b[39mclosed:\n\u001b[1;32m    326\u001b[0m     \u001b[38;5;28;01mif\u001b[39;00m \u001b[38;5;28mself\u001b[39m\u001b[38;5;241m.\u001b[39mautocommit \u001b[38;5;129;01mor\u001b[39;00m \u001b[38;5;124m\"\u001b[39m\u001b[38;5;124mw\u001b[39m\u001b[38;5;124m\"\u001b[39m \u001b[38;5;129;01mnot\u001b[39;00m \u001b[38;5;129;01min\u001b[39;00m \u001b[38;5;28mself\u001b[39m\u001b[38;5;241m.\u001b[39mmode:\n\u001b[0;32m--> 327\u001b[0m         \u001b[38;5;28mself\u001b[39m\u001b[38;5;241m.\u001b[39mf \u001b[38;5;241m=\u001b[39m \u001b[38;5;28;43mopen\u001b[39;49m\u001b[43m(\u001b[49m\u001b[38;5;28;43mself\u001b[39;49m\u001b[38;5;241;43m.\u001b[39;49m\u001b[43mpath\u001b[49m\u001b[43m,\u001b[49m\u001b[43m \u001b[49m\u001b[43mmode\u001b[49m\u001b[38;5;241;43m=\u001b[39;49m\u001b[38;5;28;43mself\u001b[39;49m\u001b[38;5;241;43m.\u001b[39;49m\u001b[43mmode\u001b[49m\u001b[43m)\u001b[49m\n\u001b[1;32m    328\u001b[0m         \u001b[38;5;28;01mif\u001b[39;00m \u001b[38;5;28mself\u001b[39m\u001b[38;5;241m.\u001b[39mcompression:\n\u001b[1;32m    329\u001b[0m             compress \u001b[38;5;241m=\u001b[39m compr[\u001b[38;5;28mself\u001b[39m\u001b[38;5;241m.\u001b[39mcompression]\n",
      "\u001b[0;31mPermissionError\u001b[0m: [Errno 13] Permission denied: '/glade/campaign/collections/rda/transfer/harshah/intake_catalogs/era5_catalog.json'"
     ]
    }
   ],
   "source": [
    "era5_cat = intake.open_esm_datastore('/gpfs/csfs1/collections/rda/transfer/harshah/intake_catalogs/era5_catalog.json')\n",
    "era5_cat"
   ]
  },
  {
   "cell_type": "code",
   "execution_count": null,
   "id": "c90cbf01-6547-4a39-b9b6-da8466939ecb",
   "metadata": {
    "scrolled": true
   },
   "outputs": [],
   "source": [
    "era5_df = era5_cat.df\n",
    "era5_df.head()"
   ]
  },
  {
   "cell_type": "markdown",
   "id": "595dd0c1-b99c-4f9c-a6b6-9938add0c68f",
   "metadata": {},
   "source": [
    "- Explore the list of variables to find the name of the 2m air temperature"
   ]
  },
  {
   "cell_type": "code",
   "execution_count": null,
   "id": "e8a973e1-2eea-4a3e-9329-36630d47c582",
   "metadata": {},
   "outputs": [],
   "source": [
    "era5_df['variable'].unique()"
   ]
  },
  {
   "cell_type": "markdown",
   "id": "112c04a4-552a-4667-adde-8d37679b1b7e",
   "metadata": {},
   "source": [
    "- We find that the variable of interest is called 'VAR_2T'"
   ]
  },
  {
   "cell_type": "code",
   "execution_count": null,
   "id": "2d32a0d1-9097-4c25-9520-bb01440eabbe",
   "metadata": {},
   "outputs": [],
   "source": [
    "temp_cat = era5_cat.search(variable='VAR_2T',frequency = 'hourly')\n",
    "temp_cat"
   ]
  },
  {
   "cell_type": "markdown",
   "id": "9eec86f7-5e13-43f4-9967-e8c47bc9d334",
   "metadata": {},
   "source": [
    "- Convert catalog to dictonary\n",
    "- Inspect keys"
   ]
  },
  {
   "cell_type": "code",
   "execution_count": null,
   "id": "4b8ee2b6-5732-4062-82f0-dea7ebf27cdd",
   "metadata": {},
   "outputs": [],
   "source": [
    "dsets = temp_cat.to_dataset_dict()"
   ]
  },
  {
   "cell_type": "code",
   "execution_count": null,
   "id": "8a830e91-fbec-4438-97e3-de670725f5c8",
   "metadata": {},
   "outputs": [],
   "source": [
    "dsets.keys()"
   ]
  },
  {
   "cell_type": "markdown",
   "id": "6354a0ce-36fe-4b9d-a44a-005b0119d6fe",
   "metadata": {},
   "source": [
    "- Extract dataset using dictionary"
   ]
  },
  {
   "cell_type": "code",
   "execution_count": null,
   "id": "b9958845-ac92-4fe7-bd6f-62d27ca00981",
   "metadata": {},
   "outputs": [],
   "source": [
    "temp_2m = dsets['an.sfc'].VAR_2T\n",
    "temp_2m"
   ]
  },
  {
   "cell_type": "markdown",
   "id": "56f909bd-bbd4-4bfb-931d-2e3d136ce255",
   "metadata": {},
   "source": [
    "- Select data corresponding to the dayofyear and colorado for the years baseline_year and current_year"
   ]
  },
  {
   "cell_type": "code",
   "execution_count": null,
   "id": "8585c8f2-c89c-4a82-b184-05284920bd4e",
   "metadata": {},
   "outputs": [],
   "source": [
    "# Create a pandas Timestamp\n",
    "current_date  = pd.Timestamp(year=current_year, month=month, day=day)\n",
    "baseline_date =  pd.Timestamp(year=baseline_year, month=month, day=day)\n",
    "current_date"
   ]
  },
  {
   "cell_type": "code",
   "execution_count": null,
   "id": "39ee90d5-666d-41a4-94f9-1b0a77162142",
   "metadata": {},
   "outputs": [],
   "source": [
    "t2m_colorado_current = temp_2m.sel(latitude=slice(colorado_top,colorado_bottom),\\\n",
    "                                         longitude=slice(colorado_right,colorado_left)).sel(time=slice(current_date,current_date+  pd.Timedelta(days=1)))\n",
    "t2m_colorado_current"
   ]
  },
  {
   "cell_type": "code",
   "execution_count": null,
   "id": "de91a835-1948-425f-a2ca-d41afe4bdd0c",
   "metadata": {},
   "outputs": [],
   "source": [
    "t2m_colorado_baseline = temp_2m.sel(latitude=slice(colorado_top,colorado_bottom),\\\n",
    "                                         longitude=slice(colorado_right,colorado_left)).sel(time=slice(current_date,current_date+  pd.Timedelta(days=1)))\n",
    "t2m_colorado_baseline"
   ]
  },
  {
   "cell_type": "code",
   "execution_count": null,
   "id": "b6b456b2-fae3-4f39-a5bb-3ee348c9a987",
   "metadata": {},
   "outputs": [],
   "source": [
    "max_t2m_colorado_anomaly = t2m_colorado_current.max('time') - t2m_colorado_baseline.max('time')\n",
    "max_t2m_colorado_anomaly"
   ]
  },
  {
   "cell_type": "markdown",
   "id": "d7ab5f62-057b-41c6-b361-12db33ca2f7f",
   "metadata": {},
   "source": [
    "## Let us now plot this data with a map of Colorado in the background"
   ]
  },
  {
   "cell_type": "code",
   "execution_count": null,
   "id": "9640b391-d171-4e92-95d8-873f9cffd1ab",
   "metadata": {},
   "outputs": [],
   "source": [
    "# Extract the latitude, longitude, and data\n",
    "latitude = max_t2m_colorado_anomaly['latitude'].values\n",
    "longitude = max_t2m_colorado_anomaly['longitude'].values\n",
    "max_t2m_colorado_anomaly = max_t2m_colorado_anomaly.data"
   ]
  },
  {
   "cell_type": "code",
   "execution_count": null,
   "id": "dc3430d5-f436-45a3-9554-e6d22e14ce34",
   "metadata": {},
   "outputs": [],
   "source": [
    "# Create the plot\n",
    "proj = ccrs.PlateCarree(central_longitude=180)\n",
    "tiles = gv.tile_sources.ESRI()\n",
    "\n",
    "# Define the state borders feature\n",
    "states = cfeature.NaturalEarthFeature(\n",
    "    category='cultural',\n",
    "    name='admin_1_states_provinces_lines',\n",
    "    scale='110m',\n",
    "    facecolor='none'\n",
    ")\n",
    "\n",
    "# Create a GeoViews plot\n",
    "plot = gv.Image((longitude, latitude, max_t2m_colorado_anomaly), crs=proj, vdims='value').opts(\n",
    "    cmap='viridis',\n",
    "    colorbar=True,\n",
    "    width=800,\n",
    "    height=600\n",
    ")\n",
    "\n",
    "# Add state borders and other features\n",
    "state_borders = gv.feature.Feature(states, group='State Borders').opts(line_color='black')\n",
    "# borders = gv.feature.borders.opts(line_dash='dotted', zorder=2)\n",
    "# state_lines = gv.feature.states.opts(line_color='black', zorder=3)\n",
    "# borders = gv.feature.borders.opts(line_dash='dotted')\n",
    "# state_lines = gv.feature.states.opts(line_color='black')\n",
    "\n",
    "# Combine everything into a single plot\n",
    "final_plot = tiles * plot * state_borders * borders * state_lines\n",
    "\n",
    "# Display the plot\n",
    "hv.extension('bokeh')\n",
    "final_plot.opts(\n",
    "    opts.Overlay(projection=ccrs.PlateCarree(central_longitude=180), global_extent=False),\n",
    "    opts.Image(tools=['hover']),\n",
    "    opts.Feature(line_width=1.5)\n",
    ").opts(\n",
    "    opts.GridSpace(show_title=True, shared_xaxis=True, shared_yaxis=True, height=400, width=600)\n",
    ")\n",
    "\n",
    "# To add grid lines with labels, use the options on the plot directly\n",
    "final_plot.opts(\n",
    "    opts.Image(xaxis='bottom', yaxis='left', show_grid=True)\n",
    ")"
   ]
  },
  {
   "cell_type": "markdown",
   "id": "34b49979-a521-4be0-9fd8-6d41891c8261",
   "metadata": {},
   "source": [
    "## Close the Dask Cluster\n",
    "\n",
    "It's best practice to close the Dask cluster when it's no longer needed to free up the compute resources used."
   ]
  },
  {
   "cell_type": "code",
   "execution_count": 12,
   "id": "3e51dddc-0c52-4299-8f19-57952838de91",
   "metadata": {},
   "outputs": [],
   "source": [
    "cluster.close()"
   ]
  },
  {
   "cell_type": "code",
   "execution_count": null,
   "id": "848d1fa1-85b5-4823-b9ee-bbee06c16e1b",
   "metadata": {},
   "outputs": [],
   "source": []
  }
 ],
 "metadata": {
  "kernelspec": {
   "display_name": "cisl-cloud-base (Python)",
   "language": "python",
   "name": "conda-env-cisl-cloud-base-py"
  },
  "language_info": {
   "codemirror_mode": {
    "name": "ipython",
    "version": 3
   },
   "file_extension": ".py",
   "mimetype": "text/x-python",
   "name": "python",
   "nbconvert_exporter": "python",
   "pygments_lexer": "ipython3",
   "version": "3.10.12"
  }
 },
 "nbformat": 4,
 "nbformat_minor": 5
}
