{
 "cells": [
  {
   "cell_type": "markdown",
   "id": "6c594730-cd0f-4b32-9999-3f5860700da5",
   "metadata": {},
   "source": [
    "# Access ERA5 data from glade and plot temp anomaly for Colorado"
   ]
  },
  {
   "cell_type": "code",
   "execution_count": 1,
   "id": "3092ae29-feec-45fc-873f-a06016571083",
   "metadata": {},
   "outputs": [],
   "source": [
    "import matplotlib.pyplot as plt\n",
    "import numpy as np\n",
    "import xarray as xr\n",
    "import intake_esm\n",
    "import intake\n",
    "import pandas as pd\n",
    "import cartopy.crs as ccrs  # Correct import for coordinate reference systems\n",
    "import cartopy.feature as cfeature\n",
    "from holoviews import opts\n",
    "import geoviews as gv\n",
    "import holoviews as hv"
   ]
  },
  {
   "cell_type": "code",
   "execution_count": 2,
   "id": "85234a12-ae27-4c51-a328-91abcac997e4",
   "metadata": {},
   "outputs": [],
   "source": [
    "import dask\n",
    "from dask.distributed import Client, performance_report\n",
    "from dask_jobqueue import PBSCluster"
   ]
  },
  {
   "cell_type": "markdown",
   "id": "c6bb3a80-b011-43fc-822f-68c7d65b10be",
   "metadata": {},
   "source": [
    "### Specify global variables"
   ]
  },
  {
   "cell_type": "code",
   "execution_count": 3,
   "id": "d2dd4beb-490e-4f7b-b4a4-9d8bc5df9d1c",
   "metadata": {},
   "outputs": [],
   "source": [
    "lat = 40.014\n",
    "lon =  -105.270 + 360\n",
    "# Bounding box for Colorado\n",
    "colorado_right  =  (-109.060253 + 360)%360\n",
    "colorado_left   = (-102.041524 + 360)%360 \n",
    "colorado_bottom = 37\n",
    "colorado_top    = 41\n",
    "###\n",
    "baseline_year = 1940\n",
    "current_year  = 2023\n",
    "day           = 11\n",
    "month         = 6"
   ]
  },
  {
   "cell_type": "code",
   "execution_count": 4,
   "id": "6ddb79d7-3c23-4fdf-b7b8-59326c1737c4",
   "metadata": {},
   "outputs": [],
   "source": [
    "rda_scratch = '/gpfs/csfs1/collections/rda/scratch/harshah'"
   ]
  },
  {
   "cell_type": "markdown",
   "id": "3301351c-9b6e-4a96-8fbe-d5e78ef7725b",
   "metadata": {},
   "source": [
    "### Spin-up PBS Cluster"
   ]
  },
  {
   "cell_type": "code",
   "execution_count": 5,
   "id": "d0915ebf-a4b9-4089-b5da-b81fc5f96488",
   "metadata": {},
   "outputs": [
    {
     "name": "stderr",
     "output_type": "stream",
     "text": [
      "/glade/work/harshah/conda-envs/zarr_experiments/lib/python3.11/site-packages/distributed/node.py:182: UserWarning: Port 8787 is already in use.\n",
      "Perhaps you already have a cluster running?\n",
      "Hosting the HTTP server on port 35271 instead\n",
      "  warnings.warn(\n"
     ]
    }
   ],
   "source": [
    "# Create a PBS cluster object\n",
    "cluster = PBSCluster(\n",
    "    job_name = 'dask-pythia-24',\n",
    "    cores = 1,\n",
    "    memory = '4GiB',\n",
    "    processes = 1,\n",
    "    local_directory = rda_scratch + '/dask/spill',\n",
    "    resource_spec = 'select=1:ncpus=1:mem=4GB',\n",
    "    queue = 'casper',\n",
    "    walltime = '1:00:00',\n",
    "    #interface = 'ib0'\n",
    "    interface = 'ext'\n",
    ")"
   ]
  },
  {
   "cell_type": "code",
   "execution_count": 6,
   "id": "27e76beb-4bc4-436e-9bb8-a9f0bebfebba",
   "metadata": {},
   "outputs": [
    {
     "data": {
      "text/html": [
       "<div>\n",
       "    <div style=\"width: 24px; height: 24px; background-color: #e1e1e1; border: 3px solid #9D9D9D; border-radius: 5px; position: absolute;\"> </div>\n",
       "    <div style=\"margin-left: 48px;\">\n",
       "        <h3 style=\"margin-bottom: 0px;\">Client</h3>\n",
       "        <p style=\"color: #9D9D9D; margin-bottom: 0px;\">Client-c74e5dca-22cd-11ef-8dff-3cecef1b12de</p>\n",
       "        <table style=\"width: 100%; text-align: left;\">\n",
       "\n",
       "        <tr>\n",
       "        \n",
       "            <td style=\"text-align: left;\"><strong>Connection method:</strong> Cluster object</td>\n",
       "            <td style=\"text-align: left;\"><strong>Cluster type:</strong> dask_jobqueue.PBSCluster</td>\n",
       "        \n",
       "        </tr>\n",
       "\n",
       "        \n",
       "            <tr>\n",
       "                <td style=\"text-align: left;\">\n",
       "                    <strong>Dashboard: </strong> <a href=\"https://jupyterhub.hpc.ucar.edu/stable/user/harshah/proxy/35271/status\" target=\"_blank\">https://jupyterhub.hpc.ucar.edu/stable/user/harshah/proxy/35271/status</a>\n",
       "                </td>\n",
       "                <td style=\"text-align: left;\"></td>\n",
       "            </tr>\n",
       "        \n",
       "\n",
       "        </table>\n",
       "\n",
       "        \n",
       "\n",
       "        \n",
       "            <details>\n",
       "            <summary style=\"margin-bottom: 20px;\"><h3 style=\"display: inline;\">Cluster Info</h3></summary>\n",
       "            <div class=\"jp-RenderedHTMLCommon jp-RenderedHTML jp-mod-trusted jp-OutputArea-output\">\n",
       "    <div style=\"width: 24px; height: 24px; background-color: #e1e1e1; border: 3px solid #9D9D9D; border-radius: 5px; position: absolute;\">\n",
       "    </div>\n",
       "    <div style=\"margin-left: 48px;\">\n",
       "        <h3 style=\"margin-bottom: 0px; margin-top: 0px;\">PBSCluster</h3>\n",
       "        <p style=\"color: #9D9D9D; margin-bottom: 0px;\">6cae603d</p>\n",
       "        <table style=\"width: 100%; text-align: left;\">\n",
       "            <tr>\n",
       "                <td style=\"text-align: left;\">\n",
       "                    <strong>Dashboard:</strong> <a href=\"https://jupyterhub.hpc.ucar.edu/stable/user/harshah/proxy/35271/status\" target=\"_blank\">https://jupyterhub.hpc.ucar.edu/stable/user/harshah/proxy/35271/status</a>\n",
       "                </td>\n",
       "                <td style=\"text-align: left;\">\n",
       "                    <strong>Workers:</strong> 0\n",
       "                </td>\n",
       "            </tr>\n",
       "            <tr>\n",
       "                <td style=\"text-align: left;\">\n",
       "                    <strong>Total threads:</strong> 0\n",
       "                </td>\n",
       "                <td style=\"text-align: left;\">\n",
       "                    <strong>Total memory:</strong> 0 B\n",
       "                </td>\n",
       "            </tr>\n",
       "            \n",
       "        </table>\n",
       "\n",
       "        <details>\n",
       "            <summary style=\"margin-bottom: 20px;\">\n",
       "                <h3 style=\"display: inline;\">Scheduler Info</h3>\n",
       "            </summary>\n",
       "\n",
       "            <div style=\"\">\n",
       "    <div>\n",
       "        <div style=\"width: 24px; height: 24px; background-color: #FFF7E5; border: 3px solid #FF6132; border-radius: 5px; position: absolute;\"> </div>\n",
       "        <div style=\"margin-left: 48px;\">\n",
       "            <h3 style=\"margin-bottom: 0px;\">Scheduler</h3>\n",
       "            <p style=\"color: #9D9D9D; margin-bottom: 0px;\">Scheduler-968b7ca0-c5db-4903-af4d-bed6c83036dd</p>\n",
       "            <table style=\"width: 100%; text-align: left;\">\n",
       "                <tr>\n",
       "                    <td style=\"text-align: left;\">\n",
       "                        <strong>Comm:</strong> tcp://128.117.208.97:40361\n",
       "                    </td>\n",
       "                    <td style=\"text-align: left;\">\n",
       "                        <strong>Workers:</strong> 0\n",
       "                    </td>\n",
       "                </tr>\n",
       "                <tr>\n",
       "                    <td style=\"text-align: left;\">\n",
       "                        <strong>Dashboard:</strong> <a href=\"https://jupyterhub.hpc.ucar.edu/stable/user/harshah/proxy/35271/status\" target=\"_blank\">https://jupyterhub.hpc.ucar.edu/stable/user/harshah/proxy/35271/status</a>\n",
       "                    </td>\n",
       "                    <td style=\"text-align: left;\">\n",
       "                        <strong>Total threads:</strong> 0\n",
       "                    </td>\n",
       "                </tr>\n",
       "                <tr>\n",
       "                    <td style=\"text-align: left;\">\n",
       "                        <strong>Started:</strong> Just now\n",
       "                    </td>\n",
       "                    <td style=\"text-align: left;\">\n",
       "                        <strong>Total memory:</strong> 0 B\n",
       "                    </td>\n",
       "                </tr>\n",
       "            </table>\n",
       "        </div>\n",
       "    </div>\n",
       "\n",
       "    <details style=\"margin-left: 48px;\">\n",
       "        <summary style=\"margin-bottom: 20px;\">\n",
       "            <h3 style=\"display: inline;\">Workers</h3>\n",
       "        </summary>\n",
       "\n",
       "        \n",
       "\n",
       "    </details>\n",
       "</div>\n",
       "\n",
       "        </details>\n",
       "    </div>\n",
       "</div>\n",
       "            </details>\n",
       "        \n",
       "\n",
       "    </div>\n",
       "</div>"
      ],
      "text/plain": [
       "<Client: 'tcp://128.117.208.97:40361' processes=0 threads=0, memory=0 B>"
      ]
     },
     "execution_count": 6,
     "metadata": {},
     "output_type": "execute_result"
    }
   ],
   "source": [
    "client = Client(cluster)\n",
    "client"
   ]
  },
  {
   "cell_type": "markdown",
   "id": "094c477d-8e2c-4887-827f-99632c648873",
   "metadata": {},
   "source": [
    "### Scale the cluster"
   ]
  },
  {
   "cell_type": "code",
   "execution_count": 7,
   "id": "a63b5f1c-9de7-4dc2-9c33-d47822d66c50",
   "metadata": {},
   "outputs": [
    {
     "data": {
      "text/html": [
       "<div class=\"jp-RenderedHTMLCommon jp-RenderedHTML jp-mod-trusted jp-OutputArea-output\">\n",
       "    <div style=\"width: 24px; height: 24px; background-color: #e1e1e1; border: 3px solid #9D9D9D; border-radius: 5px; position: absolute;\">\n",
       "    </div>\n",
       "    <div style=\"margin-left: 48px;\">\n",
       "        <h3 style=\"margin-bottom: 0px; margin-top: 0px;\">PBSCluster</h3>\n",
       "        <p style=\"color: #9D9D9D; margin-bottom: 0px;\">6cae603d</p>\n",
       "        <table style=\"width: 100%; text-align: left;\">\n",
       "            <tr>\n",
       "                <td style=\"text-align: left;\">\n",
       "                    <strong>Dashboard:</strong> <a href=\"https://jupyterhub.hpc.ucar.edu/stable/user/harshah/proxy/35271/status\" target=\"_blank\">https://jupyterhub.hpc.ucar.edu/stable/user/harshah/proxy/35271/status</a>\n",
       "                </td>\n",
       "                <td style=\"text-align: left;\">\n",
       "                    <strong>Workers:</strong> 0\n",
       "                </td>\n",
       "            </tr>\n",
       "            <tr>\n",
       "                <td style=\"text-align: left;\">\n",
       "                    <strong>Total threads:</strong> 0\n",
       "                </td>\n",
       "                <td style=\"text-align: left;\">\n",
       "                    <strong>Total memory:</strong> 0 B\n",
       "                </td>\n",
       "            </tr>\n",
       "            \n",
       "        </table>\n",
       "\n",
       "        <details>\n",
       "            <summary style=\"margin-bottom: 20px;\">\n",
       "                <h3 style=\"display: inline;\">Scheduler Info</h3>\n",
       "            </summary>\n",
       "\n",
       "            <div style=\"\">\n",
       "    <div>\n",
       "        <div style=\"width: 24px; height: 24px; background-color: #FFF7E5; border: 3px solid #FF6132; border-radius: 5px; position: absolute;\"> </div>\n",
       "        <div style=\"margin-left: 48px;\">\n",
       "            <h3 style=\"margin-bottom: 0px;\">Scheduler</h3>\n",
       "            <p style=\"color: #9D9D9D; margin-bottom: 0px;\">Scheduler-968b7ca0-c5db-4903-af4d-bed6c83036dd</p>\n",
       "            <table style=\"width: 100%; text-align: left;\">\n",
       "                <tr>\n",
       "                    <td style=\"text-align: left;\">\n",
       "                        <strong>Comm:</strong> tcp://128.117.208.97:40361\n",
       "                    </td>\n",
       "                    <td style=\"text-align: left;\">\n",
       "                        <strong>Workers:</strong> 0\n",
       "                    </td>\n",
       "                </tr>\n",
       "                <tr>\n",
       "                    <td style=\"text-align: left;\">\n",
       "                        <strong>Dashboard:</strong> <a href=\"https://jupyterhub.hpc.ucar.edu/stable/user/harshah/proxy/35271/status\" target=\"_blank\">https://jupyterhub.hpc.ucar.edu/stable/user/harshah/proxy/35271/status</a>\n",
       "                    </td>\n",
       "                    <td style=\"text-align: left;\">\n",
       "                        <strong>Total threads:</strong> 0\n",
       "                    </td>\n",
       "                </tr>\n",
       "                <tr>\n",
       "                    <td style=\"text-align: left;\">\n",
       "                        <strong>Started:</strong> Just now\n",
       "                    </td>\n",
       "                    <td style=\"text-align: left;\">\n",
       "                        <strong>Total memory:</strong> 0 B\n",
       "                    </td>\n",
       "                </tr>\n",
       "            </table>\n",
       "        </div>\n",
       "    </div>\n",
       "\n",
       "    <details style=\"margin-left: 48px;\">\n",
       "        <summary style=\"margin-bottom: 20px;\">\n",
       "            <h3 style=\"display: inline;\">Workers</h3>\n",
       "        </summary>\n",
       "\n",
       "        \n",
       "\n",
       "    </details>\n",
       "</div>\n",
       "\n",
       "        </details>\n",
       "    </div>\n",
       "</div>"
      ],
      "text/plain": [
       "PBSCluster(6cae603d, 'tcp://128.117.208.97:40361', workers=0, threads=0, memory=0 B)"
      ]
     },
     "metadata": {},
     "output_type": "display_data"
    }
   ],
   "source": [
    "cluster.scale(2)\n",
    "cluster"
   ]
  },
  {
   "cell_type": "markdown",
   "id": "ced69791-8589-4ec7-9961-edd56e4bb014",
   "metadata": {},
   "source": [
    "### Open ERA5 catalog "
   ]
  },
  {
   "cell_type": "code",
   "execution_count": 8,
   "id": "e4d432d9-1c63-4907-b6c5-0eb5d2499714",
   "metadata": {},
   "outputs": [
    {
     "name": "stderr",
     "output_type": "stream",
     "text": [
      "/glade/work/harshah/conda-envs/zarr_experiments/lib/python3.11/site-packages/intake_esm/cat.py:249: DtypeWarning: Columns (2) have mixed types. Specify dtype option on import or set low_memory=False.\n",
      "  df = pd.read_csv(\n"
     ]
    },
    {
     "data": {
      "text/html": [
       "<p><strong>era5_catalog catalog with 7 dataset(s) from 785068 asset(s)</strong>:</p> <div>\n",
       "<style scoped>\n",
       "    .dataframe tbody tr th:only-of-type {\n",
       "        vertical-align: middle;\n",
       "    }\n",
       "\n",
       "    .dataframe tbody tr th {\n",
       "        vertical-align: top;\n",
       "    }\n",
       "\n",
       "    .dataframe thead th {\n",
       "        text-align: right;\n",
       "    }\n",
       "</style>\n",
       "<table border=\"1\" class=\"dataframe\">\n",
       "  <thead>\n",
       "    <tr style=\"text-align: right;\">\n",
       "      <th></th>\n",
       "      <th>unique</th>\n",
       "    </tr>\n",
       "  </thead>\n",
       "  <tbody>\n",
       "    <tr>\n",
       "      <th>era_id</th>\n",
       "      <td>1</td>\n",
       "    </tr>\n",
       "    <tr>\n",
       "      <th>datatype</th>\n",
       "      <td>2</td>\n",
       "    </tr>\n",
       "    <tr>\n",
       "      <th>level_type</th>\n",
       "      <td>1</td>\n",
       "    </tr>\n",
       "    <tr>\n",
       "      <th>step_type</th>\n",
       "      <td>7</td>\n",
       "    </tr>\n",
       "    <tr>\n",
       "      <th>table_code</th>\n",
       "      <td>4</td>\n",
       "    </tr>\n",
       "    <tr>\n",
       "      <th>param_code</th>\n",
       "      <td>164</td>\n",
       "    </tr>\n",
       "    <tr>\n",
       "      <th>variable</th>\n",
       "      <td>212</td>\n",
       "    </tr>\n",
       "    <tr>\n",
       "      <th>long_name</th>\n",
       "      <td>212</td>\n",
       "    </tr>\n",
       "    <tr>\n",
       "      <th>units</th>\n",
       "      <td>33</td>\n",
       "    </tr>\n",
       "    <tr>\n",
       "      <th>year</th>\n",
       "      <td>85</td>\n",
       "    </tr>\n",
       "    <tr>\n",
       "      <th>month</th>\n",
       "      <td>12</td>\n",
       "    </tr>\n",
       "    <tr>\n",
       "      <th>format</th>\n",
       "      <td>1</td>\n",
       "    </tr>\n",
       "    <tr>\n",
       "      <th>frequency</th>\n",
       "      <td>1</td>\n",
       "    </tr>\n",
       "    <tr>\n",
       "      <th>path</th>\n",
       "      <td>785068</td>\n",
       "    </tr>\n",
       "    <tr>\n",
       "      <th>derived_variable</th>\n",
       "      <td>0</td>\n",
       "    </tr>\n",
       "  </tbody>\n",
       "</table>\n",
       "</div>"
      ],
      "text/plain": [
       "<IPython.core.display.HTML object>"
      ]
     },
     "metadata": {},
     "output_type": "display_data"
    }
   ],
   "source": [
    "era5_cat = intake.open_esm_datastore('/gpfs/csfs1/collections/rda/transfer/harshah/intake_catalogs/era5_catalog.json')\n",
    "era5_cat"
   ]
  },
  {
   "cell_type": "code",
   "execution_count": 9,
   "id": "c90cbf01-6547-4a39-b9b6-da8466939ecb",
   "metadata": {
    "scrolled": true
   },
   "outputs": [
    {
     "data": {
      "text/html": [
       "<div>\n",
       "<style scoped>\n",
       "    .dataframe tbody tr th:only-of-type {\n",
       "        vertical-align: middle;\n",
       "    }\n",
       "\n",
       "    .dataframe tbody tr th {\n",
       "        vertical-align: top;\n",
       "    }\n",
       "\n",
       "    .dataframe thead th {\n",
       "        text-align: right;\n",
       "    }\n",
       "</style>\n",
       "<table border=\"1\" class=\"dataframe\">\n",
       "  <thead>\n",
       "    <tr style=\"text-align: right;\">\n",
       "      <th></th>\n",
       "      <th>era_id</th>\n",
       "      <th>datatype</th>\n",
       "      <th>level_type</th>\n",
       "      <th>step_type</th>\n",
       "      <th>table_code</th>\n",
       "      <th>param_code</th>\n",
       "      <th>variable</th>\n",
       "      <th>long_name</th>\n",
       "      <th>units</th>\n",
       "      <th>year</th>\n",
       "      <th>month</th>\n",
       "      <th>format</th>\n",
       "      <th>frequency</th>\n",
       "      <th>path</th>\n",
       "    </tr>\n",
       "  </thead>\n",
       "  <tbody>\n",
       "    <tr>\n",
       "      <th>0</th>\n",
       "      <td>e5</td>\n",
       "      <td>an</td>\n",
       "      <td>NaN</td>\n",
       "      <td>pl</td>\n",
       "      <td>128</td>\n",
       "      <td>60</td>\n",
       "      <td>PV</td>\n",
       "      <td>Potential vorticity</td>\n",
       "      <td>K m**2 kg**-1 s**-1</td>\n",
       "      <td>1940</td>\n",
       "      <td>1</td>\n",
       "      <td>nc</td>\n",
       "      <td>hourly</td>\n",
       "      <td>/gpfs/csfs1/collections/rda/data/ds633.0/e5.op...</td>\n",
       "    </tr>\n",
       "    <tr>\n",
       "      <th>1</th>\n",
       "      <td>e5</td>\n",
       "      <td>an</td>\n",
       "      <td>NaN</td>\n",
       "      <td>pl</td>\n",
       "      <td>128</td>\n",
       "      <td>60</td>\n",
       "      <td>PV</td>\n",
       "      <td>Potential vorticity</td>\n",
       "      <td>K m**2 kg**-1 s**-1</td>\n",
       "      <td>1940</td>\n",
       "      <td>1</td>\n",
       "      <td>nc</td>\n",
       "      <td>hourly</td>\n",
       "      <td>/gpfs/csfs1/collections/rda/data/ds633.0/e5.op...</td>\n",
       "    </tr>\n",
       "    <tr>\n",
       "      <th>2</th>\n",
       "      <td>e5</td>\n",
       "      <td>an</td>\n",
       "      <td>NaN</td>\n",
       "      <td>pl</td>\n",
       "      <td>128</td>\n",
       "      <td>60</td>\n",
       "      <td>PV</td>\n",
       "      <td>Potential vorticity</td>\n",
       "      <td>K m**2 kg**-1 s**-1</td>\n",
       "      <td>1940</td>\n",
       "      <td>1</td>\n",
       "      <td>nc</td>\n",
       "      <td>hourly</td>\n",
       "      <td>/gpfs/csfs1/collections/rda/data/ds633.0/e5.op...</td>\n",
       "    </tr>\n",
       "    <tr>\n",
       "      <th>3</th>\n",
       "      <td>e5</td>\n",
       "      <td>an</td>\n",
       "      <td>NaN</td>\n",
       "      <td>pl</td>\n",
       "      <td>128</td>\n",
       "      <td>60</td>\n",
       "      <td>PV</td>\n",
       "      <td>Potential vorticity</td>\n",
       "      <td>K m**2 kg**-1 s**-1</td>\n",
       "      <td>1940</td>\n",
       "      <td>1</td>\n",
       "      <td>nc</td>\n",
       "      <td>hourly</td>\n",
       "      <td>/gpfs/csfs1/collections/rda/data/ds633.0/e5.op...</td>\n",
       "    </tr>\n",
       "    <tr>\n",
       "      <th>4</th>\n",
       "      <td>e5</td>\n",
       "      <td>an</td>\n",
       "      <td>NaN</td>\n",
       "      <td>pl</td>\n",
       "      <td>128</td>\n",
       "      <td>60</td>\n",
       "      <td>PV</td>\n",
       "      <td>Potential vorticity</td>\n",
       "      <td>K m**2 kg**-1 s**-1</td>\n",
       "      <td>1940</td>\n",
       "      <td>1</td>\n",
       "      <td>nc</td>\n",
       "      <td>hourly</td>\n",
       "      <td>/gpfs/csfs1/collections/rda/data/ds633.0/e5.op...</td>\n",
       "    </tr>\n",
       "  </tbody>\n",
       "</table>\n",
       "</div>"
      ],
      "text/plain": [
       "  era_id datatype level_type step_type  table_code  param_code variable  \\\n",
       "0     e5       an        NaN        pl         128          60       PV   \n",
       "1     e5       an        NaN        pl         128          60       PV   \n",
       "2     e5       an        NaN        pl         128          60       PV   \n",
       "3     e5       an        NaN        pl         128          60       PV   \n",
       "4     e5       an        NaN        pl         128          60       PV   \n",
       "\n",
       "             long_name                units  year  month format frequency  \\\n",
       "0  Potential vorticity  K m**2 kg**-1 s**-1  1940      1     nc    hourly   \n",
       "1  Potential vorticity  K m**2 kg**-1 s**-1  1940      1     nc    hourly   \n",
       "2  Potential vorticity  K m**2 kg**-1 s**-1  1940      1     nc    hourly   \n",
       "3  Potential vorticity  K m**2 kg**-1 s**-1  1940      1     nc    hourly   \n",
       "4  Potential vorticity  K m**2 kg**-1 s**-1  1940      1     nc    hourly   \n",
       "\n",
       "                                                path  \n",
       "0  /gpfs/csfs1/collections/rda/data/ds633.0/e5.op...  \n",
       "1  /gpfs/csfs1/collections/rda/data/ds633.0/e5.op...  \n",
       "2  /gpfs/csfs1/collections/rda/data/ds633.0/e5.op...  \n",
       "3  /gpfs/csfs1/collections/rda/data/ds633.0/e5.op...  \n",
       "4  /gpfs/csfs1/collections/rda/data/ds633.0/e5.op...  "
      ]
     },
     "execution_count": 9,
     "metadata": {},
     "output_type": "execute_result"
    }
   ],
   "source": [
    "era5_df = era5_cat.df\n",
    "era5_df.head()"
   ]
  },
  {
   "cell_type": "markdown",
   "id": "595dd0c1-b99c-4f9c-a6b6-9938add0c68f",
   "metadata": {},
   "source": [
    "- Explore the list of variables to find the name of the 2m air temperature"
   ]
  },
  {
   "cell_type": "code",
   "execution_count": 10,
   "id": "e8a973e1-2eea-4a3e-9329-36630d47c582",
   "metadata": {},
   "outputs": [
    {
     "data": {
      "text/plain": [
       "array(['PV', 'CRWC', 'CSWC', 'Z', 'T', 'U', 'V', 'Q', 'W', 'VO', 'D', 'R',\n",
       "       'O3', 'CLWC', 'CIWC', 'CC', 'ALUVP', 'ALUVD', 'ALNIP', 'ALNID',\n",
       "       'CI', 'ASN', 'RSN', 'SSTK', 'ISTL1', 'ISTL2', 'ISTL3', 'ISTL4',\n",
       "       'SWVL1', 'SWVL2', 'SWVL3', 'SWVL4', 'CAPE', 'LAILV', 'LAIHV',\n",
       "       'TCLW', 'TCIW', 'SP', 'TCW', 'TCWV', 'STL1', 'SD', 'CHNK', 'MSL',\n",
       "       'BLH', 'TCC', 'VAR_10U', 'VAR_10V', 'VAR_2T', 'VAR_2D', 'STL2',\n",
       "       'STL3', 'LCC', 'MCC', 'HCC', 'SRC', 'TCO3', 'IEWS', 'INSS', 'ISHF',\n",
       "       'IE', 'SKT', 'STL4', 'TSN', 'FAL', 'FSR', 'FLSR', 'LBLT', 'LTLT',\n",
       "       'LSHF', 'LICT', 'LICD', 'TCRW', 'TCSW', 'U10N', 'V10N', 'VAR_100U',\n",
       "       'VAR_100V', 'LMLT', 'LMLD', 'VIMA', 'VIT', 'VIKE', 'VITHE',\n",
       "       'VIPIE', 'VIPILE', 'VITOE', 'VIEC', 'VIMAE', 'VIMAN', 'VIKEE',\n",
       "       'VIKEN', 'VITHEE', 'VITHEN', 'VIWVE', 'VIWVN', 'VIGE', 'VIGN',\n",
       "       'VITOEE', 'VITOEN', 'VIOZE', 'VIOZN', 'VILWD', 'VIIWD', 'VIMAD',\n",
       "       'VIKED', 'VITHED', 'VIWVD', 'VIGD', 'VITOED', 'VIOZD', 'VILWE',\n",
       "       'VILWN', 'VIIWE', 'VIIWN', 'VIMAT', 'SRO', 'SSRO', 'ES', 'SMLT',\n",
       "       'LSPF', 'UVB', 'LSP', 'CP', 'SF', 'BLD', 'SSHF', 'SLHF', 'SSRD',\n",
       "       'STRD', 'SSR', 'STR', 'TSR', 'TTR', 'EWSS', 'NSSS', 'E', 'LGWS',\n",
       "       'MGWS', 'GWD', 'RO', 'TSRC', 'TTRC', 'SSRC', 'STRC', 'TISR',\n",
       "       'VIMD', 'CSF', 'LSF', 'FDIR', 'CDIR', 'SSRDC', 'STRDC', 'PEV',\n",
       "       'ZUST', 'DNDZN', 'DNDZA', 'DCTB', 'TPLB', 'TPLT', 'CBH', 'DEG01',\n",
       "       'I10FG', 'ILSPF', 'CRR', 'LSRR', 'CSFR', 'LSSFR', 'MSROR',\n",
       "       'MSSROR', 'MSER', 'MSMR', 'MLSPF', 'MSDWUVRF', 'MLSPR', 'MCPR',\n",
       "       'MSR', 'MBLD', 'MSSHF', 'MSLHF', 'MSDWSWRF', 'MSDWLWRF', 'MSNSWRF',\n",
       "       'MSNLWRF', 'MTNSWRF', 'MTNLWRF', 'METSS', 'MNTSS', 'MER', 'MEGWSS',\n",
       "       'MNGWSS', 'MGWD', 'MROR', 'MTNSWRFCS', 'MTNLWRFCS', 'MSNSWRFCS',\n",
       "       'MSNLWRFCS', 'MTDWSWRF', 'MVIMD', 'MTPR', 'MCSR', 'MLSSR',\n",
       "       'MSDRSWRF', 'MSDRSWRFCS', 'MSDWSWRFCS', 'MSDWLWRFCS', 'MPER',\n",
       "       'VAR_10FG', 'MX2T', 'MN2T', 'MXTPR', 'MNTPR'], dtype=object)"
      ]
     },
     "execution_count": 10,
     "metadata": {},
     "output_type": "execute_result"
    }
   ],
   "source": [
    "era5_df['variable'].unique()"
   ]
  },
  {
   "cell_type": "markdown",
   "id": "112c04a4-552a-4667-adde-8d37679b1b7e",
   "metadata": {},
   "source": [
    "- We find that the variable of interest is called 'VAR_2T'"
   ]
  },
  {
   "cell_type": "code",
   "execution_count": 11,
   "id": "2d32a0d1-9097-4c25-9520-bb01440eabbe",
   "metadata": {},
   "outputs": [
    {
     "data": {
      "text/html": [
       "<p><strong>era5_catalog catalog with 1 dataset(s) from 1010 asset(s)</strong>:</p> <div>\n",
       "<style scoped>\n",
       "    .dataframe tbody tr th:only-of-type {\n",
       "        vertical-align: middle;\n",
       "    }\n",
       "\n",
       "    .dataframe tbody tr th {\n",
       "        vertical-align: top;\n",
       "    }\n",
       "\n",
       "    .dataframe thead th {\n",
       "        text-align: right;\n",
       "    }\n",
       "</style>\n",
       "<table border=\"1\" class=\"dataframe\">\n",
       "  <thead>\n",
       "    <tr style=\"text-align: right;\">\n",
       "      <th></th>\n",
       "      <th>unique</th>\n",
       "    </tr>\n",
       "  </thead>\n",
       "  <tbody>\n",
       "    <tr>\n",
       "      <th>era_id</th>\n",
       "      <td>1</td>\n",
       "    </tr>\n",
       "    <tr>\n",
       "      <th>datatype</th>\n",
       "      <td>1</td>\n",
       "    </tr>\n",
       "    <tr>\n",
       "      <th>level_type</th>\n",
       "      <td>0</td>\n",
       "    </tr>\n",
       "    <tr>\n",
       "      <th>step_type</th>\n",
       "      <td>1</td>\n",
       "    </tr>\n",
       "    <tr>\n",
       "      <th>table_code</th>\n",
       "      <td>1</td>\n",
       "    </tr>\n",
       "    <tr>\n",
       "      <th>param_code</th>\n",
       "      <td>1</td>\n",
       "    </tr>\n",
       "    <tr>\n",
       "      <th>variable</th>\n",
       "      <td>1</td>\n",
       "    </tr>\n",
       "    <tr>\n",
       "      <th>long_name</th>\n",
       "      <td>1</td>\n",
       "    </tr>\n",
       "    <tr>\n",
       "      <th>units</th>\n",
       "      <td>1</td>\n",
       "    </tr>\n",
       "    <tr>\n",
       "      <th>year</th>\n",
       "      <td>85</td>\n",
       "    </tr>\n",
       "    <tr>\n",
       "      <th>month</th>\n",
       "      <td>12</td>\n",
       "    </tr>\n",
       "    <tr>\n",
       "      <th>format</th>\n",
       "      <td>1</td>\n",
       "    </tr>\n",
       "    <tr>\n",
       "      <th>frequency</th>\n",
       "      <td>1</td>\n",
       "    </tr>\n",
       "    <tr>\n",
       "      <th>path</th>\n",
       "      <td>1010</td>\n",
       "    </tr>\n",
       "    <tr>\n",
       "      <th>derived_variable</th>\n",
       "      <td>0</td>\n",
       "    </tr>\n",
       "  </tbody>\n",
       "</table>\n",
       "</div>"
      ],
      "text/plain": [
       "<IPython.core.display.HTML object>"
      ]
     },
     "metadata": {},
     "output_type": "display_data"
    }
   ],
   "source": [
    "temp_cat = era5_cat.search(variable='VAR_2T',frequency = 'hourly')\n",
    "temp_cat"
   ]
  },
  {
   "cell_type": "markdown",
   "id": "9eec86f7-5e13-43f4-9967-e8c47bc9d334",
   "metadata": {},
   "source": [
    "- Convert catalog to dictonary\n",
    "- Inspect keys"
   ]
  },
  {
   "cell_type": "code",
   "execution_count": null,
   "id": "4b8ee2b6-5732-4062-82f0-dea7ebf27cdd",
   "metadata": {},
   "outputs": [
    {
     "name": "stdout",
     "output_type": "stream",
     "text": [
      "\n",
      "--> The keys in the returned dictionary of datasets are constructed as follows:\n",
      "\t'datatype.step_type'\n"
     ]
    },
    {
     "data": {
      "text/html": [
       "\n",
       "<style>\n",
       "    /* Turns off some styling */\n",
       "    progress {\n",
       "        /* gets rid of default border in Firefox and Opera. */\n",
       "        border: none;\n",
       "        /* Needs to be in here for Safari polyfill so background images work as expected. */\n",
       "        background-size: auto;\n",
       "    }\n",
       "    progress:not([value]), progress:not([value])::-webkit-progress-bar {\n",
       "        background: repeating-linear-gradient(45deg, #7e7e7e, #7e7e7e 10px, #5c5c5c 10px, #5c5c5c 20px);\n",
       "    }\n",
       "    .progress-bar-interrupted, .progress-bar-interrupted::-webkit-progress-bar {\n",
       "        background: #F44336;\n",
       "    }\n",
       "</style>\n"
      ],
      "text/plain": [
       "<IPython.core.display.HTML object>"
      ]
     },
     "metadata": {},
     "output_type": "display_data"
    },
    {
     "data": {
      "text/html": [
       "\n",
       "    <div>\n",
       "      <progress value='0' class='' max='1' style='width:300px; height:20px; vertical-align: middle;'></progress>\n",
       "      0.00% [0/1 00:00&lt;?]\n",
       "    </div>\n",
       "    "
      ],
      "text/plain": [
       "<IPython.core.display.HTML object>"
      ]
     },
     "metadata": {},
     "output_type": "display_data"
    }
   ],
   "source": [
    "dsets = temp_cat.to_dataset_dict()"
   ]
  },
  {
   "cell_type": "code",
   "execution_count": null,
   "id": "8a830e91-fbec-4438-97e3-de670725f5c8",
   "metadata": {},
   "outputs": [],
   "source": [
    "dsets.keys()"
   ]
  },
  {
   "cell_type": "markdown",
   "id": "6354a0ce-36fe-4b9d-a44a-005b0119d6fe",
   "metadata": {},
   "source": [
    "- Extract dataset using dictionary"
   ]
  },
  {
   "cell_type": "code",
   "execution_count": null,
   "id": "b9958845-ac92-4fe7-bd6f-62d27ca00981",
   "metadata": {},
   "outputs": [],
   "source": [
    "temp_2m = dsets['an.sfc'].VAR_2T\n",
    "temp_2m"
   ]
  },
  {
   "cell_type": "markdown",
   "id": "56f909bd-bbd4-4bfb-931d-2e3d136ce255",
   "metadata": {},
   "source": [
    "- Select data corresponding to the dayofyear and colorado for the years baseline_year and current_year"
   ]
  },
  {
   "cell_type": "code",
   "execution_count": null,
   "id": "8585c8f2-c89c-4a82-b184-05284920bd4e",
   "metadata": {},
   "outputs": [],
   "source": [
    "# Create a pandas Timestamp\n",
    "current_date  = pd.Timestamp(year=current_year, month=month, day=day)\n",
    "baseline_date =  pd.Timestamp(year=baseline_year, month=month, day=day)\n",
    "current_date"
   ]
  },
  {
   "cell_type": "code",
   "execution_count": null,
   "id": "39ee90d5-666d-41a4-94f9-1b0a77162142",
   "metadata": {},
   "outputs": [],
   "source": [
    "t2m_colorado_current = temp_2m.sel(latitude=slice(colorado_top,colorado_bottom),\\\n",
    "                                         longitude=slice(colorado_right,colorado_left)).sel(time=slice(current_date,current_date+  pd.Timedelta(days=1)))\n",
    "t2m_colorado_current"
   ]
  },
  {
   "cell_type": "code",
   "execution_count": null,
   "id": "de91a835-1948-425f-a2ca-d41afe4bdd0c",
   "metadata": {},
   "outputs": [],
   "source": [
    "t2m_colorado_baseline = temp_2m.sel(latitude=slice(colorado_top,colorado_bottom),\\\n",
    "                                         longitude=slice(colorado_right,colorado_left)).sel(time=slice(current_date,current_date+  pd.Timedelta(days=1)))\n",
    "t2m_colorado_baseline"
   ]
  },
  {
   "cell_type": "code",
   "execution_count": null,
   "id": "b6b456b2-fae3-4f39-a5bb-3ee348c9a987",
   "metadata": {},
   "outputs": [],
   "source": [
    "max_t2m_colorado_anomaly = t2m_colorado_current.max('time') - t2m_colorado_baseline.max('time')\n",
    "max_t2m_colorado_anomaly"
   ]
  },
  {
   "cell_type": "markdown",
   "id": "d7ab5f62-057b-41c6-b361-12db33ca2f7f",
   "metadata": {},
   "source": [
    "## Let us now plot this data with a map of Colorado in the background"
   ]
  },
  {
   "cell_type": "code",
   "execution_count": null,
   "id": "9640b391-d171-4e92-95d8-873f9cffd1ab",
   "metadata": {},
   "outputs": [],
   "source": [
    "# Extract the latitude, longitude, and data\n",
    "latitude = max_t2m_colorado_anomaly['latitude'].values\n",
    "longitude = max_t2m_colorado_anomaly['longitude'].values\n",
    "max_t2m_colorado_anomaly = max_t2m_colorado_anomaly.data"
   ]
  },
  {
   "cell_type": "code",
   "execution_count": null,
   "id": "dc3430d5-f436-45a3-9554-e6d22e14ce34",
   "metadata": {},
   "outputs": [],
   "source": [
    "# Create the plot\n",
    "proj = ccrs.PlateCarree(central_longitude=180)\n",
    "tiles = gv.tile_sources.ESRI()\n",
    "\n",
    "# Define the state borders feature\n",
    "states = cfeature.NaturalEarthFeature(\n",
    "    category='cultural',\n",
    "    name='admin_1_states_provinces_lines',\n",
    "    scale='110m',\n",
    "    facecolor='none'\n",
    ")\n",
    "\n",
    "# Create a GeoViews plot\n",
    "plot = gv.Image((longitude, latitude, max_t2m_colorado_anomaly), crs=proj, vdims='value').opts(\n",
    "    cmap='viridis',\n",
    "    colorbar=True,\n",
    "    width=800,\n",
    "    height=600\n",
    ")\n",
    "\n",
    "# Add state borders and other features\n",
    "state_borders = gv.feature.Feature(states, group='State Borders').opts(line_color='black')\n",
    "# borders = gv.feature.borders.opts(line_dash='dotted', zorder=2)\n",
    "# state_lines = gv.feature.states.opts(line_color='black', zorder=3)\n",
    "# borders = gv.feature.borders.opts(line_dash='dotted')\n",
    "# state_lines = gv.feature.states.opts(line_color='black')\n",
    "\n",
    "# Combine everything into a single plot\n",
    "final_plot = tiles * plot * state_borders * borders * state_lines\n",
    "\n",
    "# Display the plot\n",
    "hv.extension('bokeh')\n",
    "final_plot.opts(\n",
    "    opts.Overlay(projection=ccrs.PlateCarree(central_longitude=180), global_extent=False),\n",
    "    opts.Image(tools=['hover']),\n",
    "    opts.Feature(line_width=1.5)\n",
    ").opts(\n",
    "    opts.GridSpace(show_title=True, shared_xaxis=True, shared_yaxis=True, height=400, width=600)\n",
    ")\n",
    "\n",
    "# To add grid lines with labels, use the options on the plot directly\n",
    "final_plot.opts(\n",
    "    opts.Image(xaxis='bottom', yaxis='left', show_grid=True)\n",
    ")"
   ]
  },
  {
   "cell_type": "code",
   "execution_count": null,
   "id": "3e51dddc-0c52-4299-8f19-57952838de91",
   "metadata": {},
   "outputs": [],
   "source": []
  }
 ],
 "metadata": {
  "kernelspec": {
   "display_name": "Python [conda env:zarr_experiments]",
   "language": "python",
   "name": "conda-env-zarr_experiments-py"
  },
  "language_info": {
   "codemirror_mode": {
    "name": "ipython",
    "version": 3
   },
   "file_extension": ".py",
   "mimetype": "text/x-python",
   "name": "python",
   "nbconvert_exporter": "python",
   "pygments_lexer": "ipython3",
   "version": "3.11.8"
  }
 },
 "nbformat": 4,
 "nbformat_minor": 5
}
